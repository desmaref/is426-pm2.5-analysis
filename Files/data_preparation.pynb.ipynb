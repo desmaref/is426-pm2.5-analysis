{
 "cells": [
  {
   "cell_type": "markdown",
   "id": "fff73024",
   "metadata": {},
   "source": [
    "### Import Libraries"
   ]
  },
  {
   "cell_type": "code",
   "execution_count": 9,
   "id": "8ba52936-5c29-4a2b-a085-d59e8eafe69f",
   "metadata": {},
   "outputs": [],
   "source": [
    "import csv"
   ]
  },
  {
   "cell_type": "markdown",
   "id": "0d6e2485",
   "metadata": {},
   "source": [
    "### Filter Data\n",
    "\n",
    "Filter PM 2.5 data to only 2016 data, and select only the following rows\n",
    " - year\n",
    " - date \n",
    " - state fpis\n",
    " - county fpis\n",
    "  - average particulate matter 2.5\n",
    "\n",
    "Output is saved in output folder, in csv file labelled \"pm25_2016.csv\""
   ]
  },
  {
   "cell_type": "code",
   "execution_count": 10,
   "id": "440f056e-e006-4ac5-8062-fe40f5e56deb",
   "metadata": {},
   "outputs": [
    {
     "name": "stdout",
     "output_type": "stream",
     "text": [
      "['year', 'date', 'statefips', 'countyfips', 'PM25_max_pred', 'PM25_med_pred', 'PM25_mean_pred', 'PM25_pop_pred']\n"
     ]
    }
   ],
   "source": [
    "\n",
    "fn = '../Data/Daily_PM2.5_Concentrations_All_County__2001-2016.csv'\n",
    "\n",
    "f = open(fn, 'r')\n",
    "reader = csv.reader(f)\n",
    "headers = None\n",
    "newcsv=[]\n",
    "for row in reader:\n",
    "    headers=row\n",
    "    break\n",
    "print(headers)\n",
    "for row in reader:\n",
    "    if row[0] == '2016':\n",
    "        #print(row)\n",
    "        line = {\"year\" : row[0], \"date\" : row[1], \"statefips\" : row[2], 'countyfips' : row[3], \"averagepm2.5\" : row[6]}\n",
    "        newcsv.append(line)\n",
    "f.close()\n",
    "keys = newcsv[0].keys()\n",
    "f = open(\"../Output/pm25_2016.csv\",\"w\", newline ='')\n",
    "dict_writer = csv.DictWriter(f, keys)\n",
    "dict_writer.writeheader()\n",
    "dict_writer.writerows(newcsv)\n",
    "f.close()\n",
    "        \n",
    "        "
   ]
  },
  {
   "cell_type": "code",
   "execution_count": null,
   "id": "a1b6767d-37e1-4308-9aa8-f26674a64afe",
   "metadata": {},
   "outputs": [],
   "source": []
  }
 ],
 "metadata": {
  "kernelspec": {
   "display_name": "Python 3 (ipykernel)",
   "language": "python",
   "name": "python3"
  },
  "language_info": {
   "codemirror_mode": {
    "name": "ipython",
    "version": 3
   },
   "file_extension": ".py",
   "mimetype": "text/x-python",
   "name": "python",
   "nbconvert_exporter": "python",
   "pygments_lexer": "ipython3",
   "version": "3.10.6"
  }
 },
 "nbformat": 4,
 "nbformat_minor": 5
}
