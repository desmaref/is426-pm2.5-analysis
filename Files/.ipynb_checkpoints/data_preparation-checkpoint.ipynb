{
 "cells": [
  {
   "cell_type": "code",
   "execution_count": 2,
   "id": "8ba52936-5c29-4a2b-a085-d59e8eafe69f",
   "metadata": {},
   "outputs": [],
   "source": [
    "import csv"
   ]
  },
  {
   "cell_type": "code",
   "execution_count": 10,
   "id": "440f056e-e006-4ac5-8062-fe40f5e56deb",
   "metadata": {},
   "outputs": [
    {
     "name": "stdout",
     "output_type": "stream",
     "text": [
      "['year', 'date', 'statefips', 'countyfips', 'PM25_max_pred', 'PM25_med_pred', 'PM25_mean_pred', 'PM25_pop_pred']\n"
     ]
    }
   ],
   "source": [
    "\n",
    "fn = '../Data/Daily_PM2.5_Concentrations_All_County__2001-2016.csv'\n",
    "\n",
    "f = open(fn, 'r')\n",
    "reader = csv.reader(f)\n",
    "headers = None\n",
    "newcsv=[]\n",
    "for row in reader:\n",
    "    headers=row\n",
    "    break\n",
    "print(headers)\n",
    "for row in reader:\n",
    "    if row[0] == '2016':\n",
    "        #print(row)\n",
    "        line = {\"year\" : row[0], \"date\" : row[1], \"statefips\" : row[2], 'countyfips' : row[3], \"averagepm2.5\" : row[6]}\n",
    "        newcsv.append(line)\n",
    "f.close()\n",
    "keys = newcsv[0].keys()\n",
    "f = open(\"../Output/pm25_2016.csv\",\"w\", newline ='')\n",
    "dict_writer = csv.DictWriter(f, keys)\n",
    "dict_writer.writeheader()\n",
    "dict_writer.writerows(newcsv)\n",
    "f.close()\n",
    "        \n",
    "        "
   ]
  },
  {
   "cell_type": "code",
   "execution_count": 6,
   "id": "a1b6767d-37e1-4308-9aa8-f26674a64afe",
   "metadata": {},
   "outputs": [
    {
     "name": "stdout",
     "output_type": "stream",
     "text": [
      "{'Summary Level': '10', 'State Code (FIPS)': '0', 'County Code (FIPS)': '0', 'County Subdivision Code (FIPS)': '0', 'Place Code (FIPS)': '0', 'Consolidtated City Code (FIPS)': '0', 'Area Name (including legal/statistical area description)': 'United States'}\n"
     ]
    }
   ],
   "source": [
    "with open('../Data/all-geocodes-v2020.csv') as f:\n",
    "    data = [{k: str(v) for k, v in row.items()}\n",
    "        for row in csv.DictReader(f, skipinitialspace=True)]\n",
    "f.close()\n",
    "for row in data:\n",
    "    print(row)\n",
    "    break\n",
    "fn = '../Output/pm25_2016.csv'\n",
    "\n",
    "f = open(fn, 'r')\n",
    "reader = csv.reader(f)\n",
    "csvkings = []\n",
    "csvstlaw = []\n",
    "for line in reader:\n",
    "    for row in data:\n",
    "        if line[2] == row['State Code (FIPS)'] and line[3] == row['County Code (FIPS)']:\n",
    "            line.append(row['Area Name (including legal/statistical area description)'])\n",
    "            if line[5]== \"St. Lawrence County\":\n",
    "                newline = {\"year\" : line[0], \"date\" : line[1], \"statefips\" : line[2], 'countyfips' : line[3], \"averagepm2.5\" : line[4],\"County\": line[5]}\n",
    "                csvstlaw.append(newline)\n",
    "            if line[5]== \"Kings County\" and line[1] == \"36\":\n",
    "                newline = {\"year\" : line[0], \"date\" : line[1], \"statefips\" : line[2], 'countyfips' : line[3], \"averagepm2.5\" : line[4],\"County\": line[5]}\n",
    "                csvkings.append(newline)\n",
    "            break\n",
    "f.close()\n",
    "keys = csvstlaw[0].keys()\n",
    "f = open(\"../Output/st_lawrence_2016.csv\",\"w\", newline ='')\n",
    "dict_writer = csv.DictWriter(f, keys)\n",
    "dict_writer.writeheader()\n",
    "dict_writer.writerows(csvstlaw)\n",
    "f.close()\n",
    "        \n",
    "keys = csvkings[0].keys()\n",
    "f = open(\"../Output/kings_county_2016.csv\",\"w\", newline ='')\n",
    "dict_writer = csv.DictWriter(f, keys)\n",
    "dict_writer.writeheader()\n",
    "dict_writer.writerows(csvkings)\n",
    "f.close()\n"
   ]
  },
  {
   "cell_type": "code",
   "execution_count": null,
   "id": "08de6465-bcff-49c2-98ae-33e01869054b",
   "metadata": {},
   "outputs": [],
   "source": []
  }
 ],
 "metadata": {
  "kernelspec": {
   "display_name": "Python 3 (ipykernel)",
   "language": "python",
   "name": "python3"
  },
  "language_info": {
   "codemirror_mode": {
    "name": "ipython",
    "version": 3
   },
   "file_extension": ".py",
   "mimetype": "text/x-python",
   "name": "python",
   "nbconvert_exporter": "python",
   "pygments_lexer": "ipython3",
   "version": "3.10.6"
  }
 },
 "nbformat": 4,
 "nbformat_minor": 5
}
